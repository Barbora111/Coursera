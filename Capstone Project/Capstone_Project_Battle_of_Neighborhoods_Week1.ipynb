{
 "cells": [
  {
   "cell_type": "markdown",
   "metadata": {},
   "source": [
    "# Capstone Project - The Battle of Neighborhoods (Week 1)"
   ]
  },
  {
   "cell_type": "markdown",
   "metadata": {},
   "source": [
    "-----------"
   ]
  },
  {
   "cell_type": "markdown",
   "metadata": {},
   "source": [
    "## Table of Contents\n",
    "\n",
    "* [Introduction](#introduction)\n",
    "* [Business Problem](#busproblem)\n",
    "* [Main Goal](#goal)\n",
    "* [Target Audience](#audience)\n",
    "* [Success Criteria](#criteria)\n",
    "* [Data](#data)\n",
    "* [Problem Solving](#solution)"
   ]
  },
  {
   "cell_type": "markdown",
   "metadata": {},
   "source": [
    "-----------"
   ]
  },
  {
   "cell_type": "markdown",
   "metadata": {},
   "source": [
    "## Introduction <a name=\"introduction\"></a>"
   ]
  },
  {
   "cell_type": "markdown",
   "metadata": {},
   "source": [
    "London, the capital of the UK, is considered to be one of the most important global and multicultural cities. It has been ranked by many to be the most visited, expensive, innovative, popular for working, studying, and simply living in. Whether one is moving to London because of studies or work opportunities, one needs to find a nice neighborhood to live in that provides him/her with all the safety, high quality services and standard of life."
   ]
  },
  {
   "cell_type": "markdown",
   "metadata": {},
   "source": [
    "## Business Problem <a name=\"busproblem\"></a>"
   ]
  },
  {
   "cell_type": "markdown",
   "metadata": {},
   "source": [
    "Each London borough has its own characteristics, depending on what one’s preferences are, one needs to decide where to settle down when relocating to London. Some districts offer higher safety, others more local amenities and nightlife activities while somebody may seek for quite neighborhood with park areas and local markets. Of course, there is a budget limitation and time requirements for commuting to school or work that are important aspects when selecting a location of the accommodation, however, these are not to be included in our analysis.    \n",
    "\n",
    "As there are many factors to be taken into account when looking for a borough where one is going to spend several months or even years of life, we have decided to analyze London’s neighborhoods from safety and venues perspective in order to help potential future Londoners to find a proper and suitable borough. Moreover, these analytics can aid real estate agencies as well, when categorizing the boroughs and giving recommendations to the people searching for a real estate.\n"
   ]
  },
  {
   "cell_type": "markdown",
   "metadata": {},
   "source": [
    "## Main Goal <a name=\"goal\"></a>"
   ]
  },
  {
   "cell_type": "markdown",
   "metadata": {},
   "source": [
    "The main objective of this project is to find the best place to live in London, taking into account the crime occurrence and venues density meaning to classify boroughs in London based on the safety indicator (reflecting the current status of the crime incidents) and topmost common venues in each of them (leveraging Foursquare data)."
   ]
  },
  {
   "cell_type": "markdown",
   "metadata": {},
   "source": [
    "## Target Audience <a name=\"audience\"></a>"
   ]
  },
  {
   "cell_type": "markdown",
   "metadata": {},
   "source": [
    "By analyzing two main attributes (safety and amenities availability), we aim to help people relocating to London to give a better overview of the current living situation in London and recommend them the areas as per their interests and expectations so they can better orient themselves in an unknown city and narrow down their search. This report will be focusing mainly on the stakeholders of general audience (“newcomers” to London) while summarizing the safety and venues categories so they can more conveniently choose the final location as per their preferences."
   ]
  },
  {
   "cell_type": "markdown",
   "metadata": {},
   "source": [
    "## Success Criteria <a name=\"criteria\"></a>"
   ]
  },
  {
   "cell_type": "markdown",
   "metadata": {},
   "source": [
    "The success criteria of the project will be a good recommendation of a borough to people based on the above-mentioned factors i.e. safety and venues types."
   ]
  },
  {
   "cell_type": "markdown",
   "metadata": {},
   "source": [
    "## Data <a name=\"data\"></a>"
   ]
  },
  {
   "cell_type": "markdown",
   "metadata": {},
   "source": [
    "In order to proceed with the analytics part and to achieve the set objectives, the below data has been collected and processed in order to give us better insight of the safety and venues availability:\n",
    "-\tTotal number of crimes in the last two years per borough and crime category\n",
    "-\tThe most common venues in each borough that are reported at the time of analysis   \n",
    "\n",
    "The datasets have been acquired from the following sources:\n",
    "-\tLondon crime dataset:  \n",
    "    -\tLondon Datastore: https://data.london.gov.uk/dataset/recorded_crime_summary\n",
    "-\tLondon boroughs dataset:\n",
    "    -\tWikipedia: https://en.wikipedia.org/wiki/List_of_London_boroughs\n",
    "-\tLondon boroughs coordinates:\n",
    "    -   Geopy API: https://pypi.org/project/geopy/\n",
    "-\tLondon venues in the respective boroughs:\n",
    "    -\tFoursquare API: https://api.foursquare.com\n"
   ]
  },
  {
   "cell_type": "markdown",
   "metadata": {},
   "source": [
    "## Problem Solving <a name=\"solution\"></a>"
   ]
  },
  {
   "cell_type": "markdown",
   "metadata": {},
   "source": [
    "Firstly, we analyze the crime dataset in order to better understand the current distribution of crimes across the respective boroughs. In the next step, after obtaining the data related to various venues available in the respective boroughs (leveraging Foursquare data), we cluster the boroughs using the k-means algorithm to get the groups of similar boroughs that can be recommended to the prospects searching for the best area as per their needs/preferences. All the results will be supported with the visualizations in order to more effectively present the outputs of the analysis and underlying relations."
   ]
  },
  {
   "cell_type": "markdown",
   "metadata": {},
   "source": [
    "----------"
   ]
  }
 ],
 "metadata": {
  "kernelspec": {
   "display_name": "Python 3",
   "language": "python",
   "name": "python3"
  },
  "language_info": {
   "codemirror_mode": {
    "name": "ipython",
    "version": 3
   },
   "file_extension": ".py",
   "mimetype": "text/x-python",
   "name": "python",
   "nbconvert_exporter": "python",
   "pygments_lexer": "ipython3",
   "version": "3.7.4"
  }
 },
 "nbformat": 4,
 "nbformat_minor": 2
}
